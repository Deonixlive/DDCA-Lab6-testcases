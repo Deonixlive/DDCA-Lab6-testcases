{
 "cells": [
  {
   "cell_type": "code",
   "execution_count": 229,
   "id": "f23b807d-1210-405f-9ea9-d0cf8852b189",
   "metadata": {},
   "outputs": [],
   "source": [
    "import random\n",
    "from bitstring import BitArray"
   ]
  },
  {
   "cell_type": "code",
   "execution_count": 230,
   "id": "cef9cf78-ba27-4e83-9bf8-066764951222",
   "metadata": {},
   "outputs": [],
   "source": [
    "#python script to create test cases\n",
    "def add(a, b):\n",
    "    return bin((int(a, 2) + int(b, 2))).replace(\"0b\", \"\")[-32:]\n",
    "\n",
    "def sub(a, b):\n",
    "    bs = bin(BitArray(bin=a).int-BitArray(bin=b).int).replace(\"0b\", \"\")\n",
    "    fb = bs[0]\n",
    "\n",
    "    if (fb == \"-\"):\n",
    "        return \"1\" + (bs[-31:].replace(\"-\", \"\").rjust(31, \"0\"))\n",
    "    else:\n",
    "        return \"0\" + (bs[-31:].rjust(31, \"0\"))\n",
    "\n",
    "def and_op(a, b):\n",
    "    return \"\".join([\"1\" if (x == y and x != \"0\" and y != \"0\") else \"0\" for x, y in zip(a, b)])\n",
    "    \n",
    "def or_op(a, b):\n",
    "    return \"\".join([\"1\" if (x == \"1\" or y == \"1\") else \"0\" for x, y in zip(a, b)])\n",
    "\n",
    "def xor_op(a, b):\n",
    "    return \"\".join([\"1\" if (x != y) else \"0\" for x, y in zip(a, b)])\n",
    "\n",
    "def nor_op(a, b):\n",
    "    return \"\".join([\"1\" if (c == \"0\") else \"0\" for c in or_op(a, b)])\n",
    "    \n",
    "def slt_op(a, b):\n",
    "    return \"1\".rjust(32, \"0\") if BitArray(bin=a).int < BitArray(bin=b).int else \"0\".rjust(32, \"0\") \n",
    "\n",
    "def hexify(a):\n",
    "    return hex(int(a, 2)).replace(\"0x\", \"\").rjust(8, \"0\")\n",
    "\n",
    "    \n",
    "class Verifier:\n",
    "    def __init__(self, width=32):\n",
    "        self.width = width\n",
    "\n",
    "    def verify(self,\n",
    "               a : str,\n",
    "               b : str,\n",
    "               op : int) -> str:\n",
    "        match op:\n",
    "            # add\n",
    "            case 0: return add(a, b)\n",
    "            case 2: return sub(a, b)\n",
    "            case 4: return and_op(a, b)\n",
    "            case 5: return or_op(a, b)\n",
    "            case 6: return xor_op(a, b)\n",
    "            case 7: return nor_op(a, b)\n",
    "            case 10: return slt_op(a, b)\n",
    "\n",
    "        raise Exception(\"no Operation mapped\")\n",
    "\n",
    "class Generator:\n",
    "    def __init__(self, width=32, seed=0, verifier=Verifier()):\n",
    "        self.width = 32\n",
    "        self.v = verifier\n",
    "        random.seed(seed)\n",
    "\n",
    "    def generate(self):\n",
    "        return \"\".join(random.choice([\"0\", \"1\"]) for i in range(0, self.width))\n",
    "\n",
    "    def make_case(self) -> list[str]:\n",
    "        a = self.generate()\n",
    "        b = self.generate()\n",
    "        opcode = random.choice([0, 2, 4, 5, 6, 7, 10])\n",
    "\n",
    "        res = self.v.verify(a, b, opcode)\n",
    "        return {\"op\": opcode, \"a\": a, \"b\": b, \"res\": res}"
   ]
  },
  {
   "cell_type": "code",
   "execution_count": 231,
   "id": "055503c7-7e9f-4c7e-a621-7e2ab4de7655",
   "metadata": {},
   "outputs": [
    {
     "data": {
      "text/plain": [
       "'df929bb8'"
      ]
     },
     "execution_count": 231,
     "metadata": {},
     "output_type": "execute_result"
    }
   ],
   "source": [
    "v = Verifier()\n",
    "g = Generator()\n",
    "a = g.generate()\n",
    "b = g.generate()\n",
    "hexify(a)"
   ]
  },
  {
   "cell_type": "code",
   "execution_count": 233,
   "id": "876c752d-0fb3-4149-b566-192d2424b5a1",
   "metadata": {},
   "outputs": [
    {
     "name": "stdout",
     "output_type": "stream",
     "text": [
      "a   11011111100100101001101110111000\n",
      "b   10110100000100110110101101101000\n",
      "add 10010011101001100000011100100000\n",
      "sub 00101011011111110011000001010000\n",
      "slt 00000000000000000000000000000000\n",
      "and 10010100000100100000101100101000\n",
      "or  11111111100100111111101111111000\n",
      "nor 00000000011011000000010000000111\n",
      "xor 01101011100000011111000011010000\n"
     ]
    }
   ],
   "source": [
    "print(\"a   \"+a)\n",
    "print(\"b   \"+b)\n",
    "print(\"add \" + v.verify(a, b, 0))\n",
    "print(\"sub \" + v.verify(a, b, 2))\n",
    "print(\"slt \" + v.verify(a, b, 10))\n",
    "print(\"and \" + v.verify(a, b, 4))\n",
    "print(\"or  \" + v.verify(a, b, 5))\n",
    "print(\"nor \" + v.verify(a, b, 7))\n",
    "print(\"xor \" + v.verify(a, b, 6))"
   ]
  },
  {
   "cell_type": "code",
   "execution_count": 238,
   "id": "23e70dbe-ec40-4618-8b7e-e82ece13dfa7",
   "metadata": {},
   "outputs": [],
   "source": [
    "N = 50\n",
    "\n",
    "with open(\"test.txt\", \"w\") as f:\n",
    "    for i in range(0, N):\n",
    "        d = g.make_case()\n",
    "        f.write(f\"{hex(d['op'])[2:4].upper()}_______{hexify(d['a']).upper()}___{hexify(d['b']).upper()}___{hexify(d['res']).upper()}\\n\")\n",
    "        "
   ]
  },
  {
   "cell_type": "code",
   "execution_count": 206,
   "id": "6278c7ff-1b41-4fbd-894e-99fa500e98b5",
   "metadata": {},
   "outputs": [
    {
     "data": {
      "text/plain": [
       "1"
      ]
     },
     "execution_count": 206,
     "metadata": {},
     "output_type": "execute_result"
    }
   ],
   "source": [
    "BitArray(bin=\"01\").int"
   ]
  },
  {
   "cell_type": "code",
   "execution_count": 200,
   "id": "aa1ac54c-c674-44ed-b601-4a88d5e27048",
   "metadata": {},
   "outputs": [
    {
     "data": {
      "text/plain": [
       "BitArray('0x97016717')"
      ]
     },
     "execution_count": 200,
     "metadata": {},
     "output_type": "execute_result"
    }
   ],
   "source": [
    "BitArray(hex=\"97016717\")"
   ]
  },
  {
   "cell_type": "code",
   "execution_count": null,
   "id": "cbfdc609-76dc-4acb-8925-5943490b3eb0",
   "metadata": {},
   "outputs": [],
   "source": []
  }
 ],
 "metadata": {
  "kernelspec": {
   "display_name": "Python 3 (ipykernel)",
   "language": "python",
   "name": "python3"
  },
  "language_info": {
   "codemirror_mode": {
    "name": "ipython",
    "version": 3
   },
   "file_extension": ".py",
   "mimetype": "text/x-python",
   "name": "python",
   "nbconvert_exporter": "python",
   "pygments_lexer": "ipython3",
   "version": "3.10.12"
  }
 },
 "nbformat": 4,
 "nbformat_minor": 5
}
